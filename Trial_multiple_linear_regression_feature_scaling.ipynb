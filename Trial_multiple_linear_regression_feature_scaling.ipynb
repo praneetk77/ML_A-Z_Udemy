{
  "nbformat": 4,
  "nbformat_minor": 0,
  "metadata": {
    "colab": {
      "name": "Trial_multiple_linear_regression_feature_scaling.ipynb",
      "provenance": [],
      "include_colab_link": true
    },
    "kernelspec": {
      "name": "python3",
      "display_name": "Python 3"
    }
  },
  "cells": [
    {
      "cell_type": "markdown",
      "metadata": {
        "id": "view-in-github",
        "colab_type": "text"
      },
      "source": [
        "<a href=\"https://colab.research.google.com/github/praneetk77/ML_A-Z_Udemy/blob/main/Trial_multiple_linear_regression_feature_scaling.ipynb\" target=\"_parent\"><img src=\"https://colab.research.google.com/assets/colab-badge.svg\" alt=\"Open In Colab\"/></a>"
      ]
    },
    {
      "cell_type": "markdown",
      "metadata": {
        "id": "CazISR8X_HUG"
      },
      "source": [
        "# Multiple Linear Regression"
      ]
    },
    {
      "cell_type": "markdown",
      "metadata": {
        "id": "pOyqYHTk_Q57"
      },
      "source": [
        "## Importing the libraries"
      ]
    },
    {
      "cell_type": "code",
      "source": [
        "import numpy as np\n",
        "import matplotlib.pyplot as plt\n",
        "import pandas as pd"
      ],
      "metadata": {
        "id": "ViQbkf2r4e7w"
      },
      "execution_count": 1,
      "outputs": []
    },
    {
      "cell_type": "markdown",
      "metadata": {
        "id": "vgC61-ah_WIz"
      },
      "source": [
        "## Importing the dataset"
      ]
    },
    {
      "cell_type": "code",
      "source": [
        "dataset = pd.read_csv('50_Startups.csv')\n",
        "x = dataset.iloc[:, :-1].values\n",
        "y = dataset.iloc[:, -1].values"
      ],
      "metadata": {
        "id": "4KJ9gzgN4h7D"
      },
      "execution_count": 2,
      "outputs": []
    },
    {
      "cell_type": "markdown",
      "metadata": {
        "id": "VadrvE7s_lS9"
      },
      "source": [
        "## Encoding categorical data"
      ]
    },
    {
      "cell_type": "code",
      "source": [
        "from sklearn.compose import ColumnTransformer\n",
        "from sklearn.preprocessing import OneHotEncoder\n",
        "ct = ColumnTransformer(transformers=[('encoder',OneHotEncoder(), [3])],remainder='passthrough')\n",
        "x = np.array(ct.fit_transform(x))"
      ],
      "metadata": {
        "id": "-JNEhlqq4ia3"
      },
      "execution_count": 3,
      "outputs": []
    },
    {
      "cell_type": "markdown",
      "metadata": {
        "id": "WemVnqgeA70k"
      },
      "source": [
        "## Splitting the dataset into the Training set and Test set"
      ]
    },
    {
      "cell_type": "code",
      "source": [
        "from sklearn.model_selection import train_test_split\n",
        "x_train, x_test, y_train, y_test = train_test_split(x,y,test_size = 0.2, random_state = 0)"
      ],
      "metadata": {
        "id": "4YQlLbRO5C21"
      },
      "execution_count": 4,
      "outputs": []
    },
    {
      "cell_type": "code",
      "source": [
        "print(x_train)"
      ],
      "metadata": {
        "colab": {
          "base_uri": "https://localhost:8080/"
        },
        "id": "qIGxh9-yjTbm",
        "outputId": "2d691d5a-296f-4d2c-af64-b223ea970186"
      },
      "execution_count": 5,
      "outputs": [
        {
          "output_type": "stream",
          "name": "stdout",
          "text": [
            "[[0.0 1.0 0.0 55493.95 103057.49 214634.81]\n",
            " [0.0 0.0 1.0 46014.02 85047.44 205517.64]\n",
            " [0.0 1.0 0.0 75328.87 144135.98 134050.07]\n",
            " [1.0 0.0 0.0 46426.07 157693.92 210797.67]\n",
            " [0.0 1.0 0.0 91749.16 114175.79 294919.57]\n",
            " [0.0 1.0 0.0 130298.13 145530.06 323876.68]\n",
            " [0.0 1.0 0.0 119943.24 156547.42 256512.92]\n",
            " [0.0 0.0 1.0 1000.23 124153.04 1903.93]\n",
            " [0.0 0.0 1.0 542.05 51743.15 0.0]\n",
            " [0.0 0.0 1.0 65605.48 153032.06 107138.38]\n",
            " [0.0 0.0 1.0 114523.61 122616.84 261776.23]\n",
            " [0.0 1.0 0.0 61994.48 115641.28 91131.24]\n",
            " [1.0 0.0 0.0 63408.86 129219.61 46085.25]\n",
            " [1.0 0.0 0.0 78013.11 121597.55 264346.06]\n",
            " [1.0 0.0 0.0 23640.93 96189.63 148001.11]\n",
            " [1.0 0.0 0.0 76253.86 113867.3 298664.47]\n",
            " [0.0 0.0 1.0 15505.73 127382.3 35534.17]\n",
            " [0.0 0.0 1.0 120542.52 148718.95 311613.29]\n",
            " [1.0 0.0 0.0 91992.39 135495.07 252664.93]\n",
            " [1.0 0.0 0.0 64664.71 139553.16 137962.62]\n",
            " [0.0 0.0 1.0 131876.9 99814.71 362861.36]\n",
            " [0.0 0.0 1.0 94657.16 145077.58 282574.31]\n",
            " [1.0 0.0 0.0 28754.33 118546.05 172795.67]\n",
            " [1.0 0.0 0.0 0.0 116983.8 45173.06]\n",
            " [1.0 0.0 0.0 162597.7 151377.59 443898.53]\n",
            " [0.0 1.0 0.0 93863.75 127320.38 249839.44]\n",
            " [1.0 0.0 0.0 44069.95 51283.14 197029.42]\n",
            " [0.0 0.0 1.0 77044.01 99281.34 140574.81]\n",
            " [1.0 0.0 0.0 134615.46 147198.87 127716.82]\n",
            " [0.0 1.0 0.0 67532.53 105751.03 304768.73]\n",
            " [0.0 1.0 0.0 28663.76 127056.21 201126.82]\n",
            " [0.0 0.0 1.0 78389.47 153773.43 299737.29]\n",
            " [0.0 0.0 1.0 86419.7 153514.11 0.0]\n",
            " [1.0 0.0 0.0 123334.88 108679.17 304981.62]\n",
            " [1.0 0.0 0.0 38558.51 82982.09 174999.3]\n",
            " [0.0 1.0 0.0 1315.46 115816.21 297114.46]\n",
            " [0.0 0.0 1.0 144372.41 118671.85 383199.62]\n",
            " [0.0 0.0 1.0 165349.2 136897.8 471784.1]\n",
            " [1.0 0.0 0.0 0.0 135426.92 0.0]\n",
            " [1.0 0.0 0.0 22177.74 154806.14 28334.72]]\n"
          ]
        }
      ]
    },
    {
      "cell_type": "markdown",
      "source": [
        "## Feature Scaling"
      ],
      "metadata": {
        "id": "PlSJNrcgjHLe"
      }
    },
    {
      "cell_type": "code",
      "source": [
        "from sklearn.preprocessing import StandardScaler\n",
        "sc = StandardScaler()\n",
        "x_train[:, 3:] = sc.fit_transform(x_train[:, 3:])\n",
        "x_test[:,3:] = sc.transform(x_test[:, 3:])"
      ],
      "metadata": {
        "id": "96-NhvpVjGqN"
      },
      "execution_count": 6,
      "outputs": []
    },
    {
      "cell_type": "code",
      "source": [
        "print(x_train)"
      ],
      "metadata": {
        "colab": {
          "base_uri": "https://localhost:8080/"
        },
        "id": "0FoJkFs1jhBY",
        "outputId": "79b17f07-8db9-4f80-8cd9-cac39a191627"
      },
      "execution_count": 9,
      "outputs": [
        {
          "output_type": "stream",
          "name": "stdout",
          "text": [
            "[[0.0 1.0 0.0 -0.3500645436227844 -0.7854710924793271 0.1011968019362538]\n",
            " [0.0 0.0 1.0 -0.555303187426314 -1.481174262628151 0.02734979174277092]\n",
            " [0.0 1.0 0.0 0.07935762307586282 0.8013338146656704 -0.551521323997471]\n",
            " [1.0 0.0 0.0 -0.5463823849331263 1.3250581707161837 0.07011683779235604]\n",
            " [0.0 1.0 0.0 0.4348537132854595 -0.3559866348200946 0.7514851578736048]\n",
            " [0.0 1.0 0.0 1.2694314288195354 0.855185185174973 0.986031184474382]\n",
            " [0.0 1.0 0.0 1.045250070905001 1.2807704710942711 0.44039999942558483]\n",
            " [0.0 0.0 1.0 -1.529843000700978 0.029420649133439825 -1.6218751012780783]\n",
            " [0.0 0.0 1.0 -1.5397625087372082 -2.767672641730695 -1.6372965026688253]\n",
            " [0.0 0.0 1.0 -0.13115188245559178 1.144977005989267 -0.7694999122824163]\n",
            " [0.0 0.0 1.0 0.927916133722245 -0.029920619212990152 0.4830316172654914]\n",
            " [0.0 1.0 0.0 -0.20932933131592557 -0.29937679537926 -0.8991541175619614]\n",
            " [1.0 0.0 0.0 -0.17870827894287686 0.2251351979981532 -1.2640164249123271]\n",
            " [1.0 0.0 0.0 0.13747089788308053 -0.06929437355020689 0.5038466577007928]\n",
            " [1.0 0.0 0.0 -1.0396762417942589 -1.0507669675123394\n",
            "  -0.43852106261266766]\n",
            " [1.0 0.0 0.0 0.09938347697265615 -0.3679031742499798 0.7818179989277446]\n",
            " [0.0 0.0 1.0 -1.2158017422009575 0.15416246935241742 -1.3494777810472085]\n",
            " [0.0 0.0 1.0 1.0582243665441649 0.9783675684696275 0.8867005055096748]\n",
            " [1.0 0.0 0.0 0.4401195955580429 0.4675474853678242 0.40923215274131525]\n",
            " [1.0 0.0 0.0 -0.15151937028841816 0.6243058551529852 -0.5198305559485576]\n",
            " [0.0 0.0 1.0 1.303611492773351 -0.9107351714849491 1.3017982548865463]\n",
            " [0.0 0.0 1.0 0.49781134864570625 0.837706512410103 0.6514913504683245]\n",
            " [1.0 0.0 0.0 -0.9289721246515195 -0.1871695723258425\n",
            "  -0.23769074738733695]\n",
            " [1.0 0.0 0.0 -1.5514977859885914 -0.24751711592316733\n",
            "  -1.2714049571244492]\n",
            " [1.0 0.0 0.0 1.968710847785411 1.0810671321179492 1.9581809612571657]\n",
            " [0.0 1.0 0.0 0.48063417620032334 0.1517705859153579 0.3863463242625676]\n",
            " [1.0 0.0 0.0 -0.5973919254506589 -2.7854421879174165\n",
            "  -0.04140286602981931]\n",
            " [0.0 0.0 1.0 0.11649007105102568 -0.9313385123897375\n",
            "  -0.49867240911600824]\n",
            " [1.0 0.0 0.0 1.3629007850333776 0.9196489932918887 -0.6028192132885423]\n",
            " [0.0 1.0 0.0 -0.08943162412651208 -0.6814233903950654 0.8312611211294444]\n",
            " [0.0 1.0 0.0 -0.9309329475657485 0.14156606641329023\n",
            "  -0.008214854885267122]\n",
            " [0.0 0.0 1.0 0.14561901880611441 1.173615097457821 0.790507597726031]\n",
            " [0.0 0.0 1.0 0.31947193909459937 1.1635979267068792 -1.6372965026688253]\n",
            " [1.0 0.0 0.0 1.1186784183579679 -0.5683134167614787 0.8329854818685873]\n",
            " [1.0 0.0 0.0 -0.7167135313068757 -1.5609558591515853\n",
            "  -0.21984184393674172]\n",
            " [0.0 1.0 0.0 -1.5230183324084707 -0.29261949289791545 0.7692632693055047]\n",
            " [0.0 0.0 1.0 1.5741368580485635 -0.1823100933791031 1.4665335503277532]\n",
            " [0.0 0.0 1.0 2.0282802885329074 0.5217329933404754 2.184047756769488]\n",
            " [1.0 0.0 0.0 -1.5514977859885914 0.46491494569993663 -1.6372965026688253]\n",
            " [1.0 0.0 0.0 -1.0713540211899808 1.2135072477208355 -1.4077916939760526]]\n"
          ]
        }
      ]
    },
    {
      "cell_type": "markdown",
      "metadata": {
        "id": "k-McZVsQBINc"
      },
      "source": [
        "## Training the Multiple Linear Regression model on the Training set"
      ]
    },
    {
      "cell_type": "code",
      "source": [
        "from sklearn.linear_model import LinearRegression\n",
        "regressor = LinearRegression()\n",
        "regressor.fit(x_train, y_train)"
      ],
      "metadata": {
        "colab": {
          "base_uri": "https://localhost:8080/"
        },
        "id": "7bJ2pr7i5Dkv",
        "outputId": "4d700a9f-e168-480c-bfe4-b266da5ccb13"
      },
      "execution_count": 7,
      "outputs": [
        {
          "output_type": "execute_result",
          "data": {
            "text/plain": [
              "LinearRegression()"
            ]
          },
          "metadata": {},
          "execution_count": 7
        }
      ]
    },
    {
      "cell_type": "markdown",
      "metadata": {
        "id": "xNkXL1YQBiBT"
      },
      "source": [
        "## Predicting the Test set results"
      ]
    },
    {
      "cell_type": "code",
      "source": [
        "y_pred = regressor.predict(x_test)\n",
        "np.set_printoptions(precision=2)\n",
        "print(np.concatenate((y_pred.reshape(len(y_pred),1), y_test.reshape(len(y_test),1)),1))"
      ],
      "metadata": {
        "colab": {
          "base_uri": "https://localhost:8080/"
        },
        "id": "DmgrwOhs5EIl",
        "outputId": "aeb64394-b2c0-4d68-cde6-84a087e42a75"
      },
      "execution_count": 8,
      "outputs": [
        {
          "output_type": "stream",
          "name": "stdout",
          "text": [
            "[[103015.2  103282.38]\n",
            " [132582.28 144259.4 ]\n",
            " [132447.74 146121.95]\n",
            " [ 71976.1   77798.83]\n",
            " [178537.48 191050.39]\n",
            " [116161.24 105008.31]\n",
            " [ 67851.69  81229.06]\n",
            " [ 98791.73  97483.56]\n",
            " [113969.44 110352.25]\n",
            " [167921.07 166187.94]]\n"
          ]
        }
      ]
    },
    {
      "cell_type": "markdown",
      "metadata": {
        "id": "5p136WrJFBLj"
      },
      "source": [
        "## Making a single prediction (for example the profit of a startup with R&D Spend = 160000, Administration Spend = 130000, Marketing Spend = 300000 and State = 'California')"
      ]
    },
    {
      "cell_type": "code",
      "metadata": {
        "id": "p7mdgRSMFsqH",
        "colab": {
          "base_uri": "https://localhost:8080/",
          "height": 34
        },
        "outputId": "ca934993-3a52-4d80-d071-0f414f0d734e"
      },
      "source": [
        "print(regressor.predict([[1, 0, 0, 160000, 130000, 300000]]))"
      ],
      "execution_count": null,
      "outputs": [
        {
          "output_type": "stream",
          "text": [
            "[181566.92]\n"
          ],
          "name": "stdout"
        }
      ]
    },
    {
      "cell_type": "markdown",
      "metadata": {
        "id": "soirA4ugKRTL"
      },
      "source": [
        "## Getting the final linear regression equation with the values of the coefficients"
      ]
    },
    {
      "cell_type": "code",
      "metadata": {
        "id": "HtuCxTkwKVPa",
        "colab": {
          "base_uri": "https://localhost:8080/",
          "height": 51
        },
        "outputId": "74101fe7-1cf4-4551-c9af-84ce1d82bbce"
      },
      "source": [
        "print(regressor.coef_)\n",
        "print(regressor.intercept_)"
      ],
      "execution_count": null,
      "outputs": [
        {
          "output_type": "stream",
          "text": [
            "[ 8.66e+01 -8.73e+02  7.86e+02  7.73e-01  3.29e-02  3.66e-02]\n",
            "42467.52924853204\n"
          ],
          "name": "stdout"
        }
      ]
    }
  ]
}